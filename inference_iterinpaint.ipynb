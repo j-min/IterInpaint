{
  "cells": [
    {
      "cell_type": "markdown",
      "metadata": {
        "id": "view-in-github",
        "colab_type": "text"
      },
      "source": [
        "<a href=\"https://colab.research.google.com/github/j-min/IterInpaint/blob/main/inference_iterinpaint.ipynb\" target=\"_parent\"><img src=\"https://colab.research.google.com/assets/colab-badge.svg\" alt=\"Open In Colab\"/></a>"
      ]
    },
    {
      "cell_type": "code",
      "source": [
        "!git clone https://github.com/j-min/IterInpaint"
      ],
      "metadata": {
        "id": "O_jM_JcmrKUf"
      },
      "id": "O_jM_JcmrKUf",
      "execution_count": null,
      "outputs": []
    },
    {
      "cell_type": "code",
      "source": [
        "cd IterInpaint"
      ],
      "metadata": {
        "id": "vbNm3mFPrb4v"
      },
      "id": "vbNm3mFPrb4v",
      "execution_count": null,
      "outputs": []
    },
    {
      "cell_type": "code",
      "source": [
        "!pip uninstall -y torchtext"
      ],
      "metadata": {
        "id": "S1y4o3Jur9Tm"
      },
      "id": "S1y4o3Jur9Tm",
      "execution_count": null,
      "outputs": []
    },
    {
      "cell_type": "code",
      "source": [
        "!pip install -r requirements.txt"
      ],
      "metadata": {
        "id": "Vw88f4bYrgKf"
      },
      "id": "Vw88f4bYrgKf",
      "execution_count": null,
      "outputs": []
    },
    {
      "cell_type": "code",
      "execution_count": null,
      "id": "610d6eb5-f73e-4eff-96c9-dd5c942bf75a",
      "metadata": {
        "tags": [],
        "id": "610d6eb5-f73e-4eff-96c9-dd5c942bf75a"
      },
      "outputs": [],
      "source": [
        "import argparse, os, sys, glob, re\n",
        "import json\n",
        "import torch\n",
        "import numpy as np\n",
        "from omegaconf import OmegaConf\n",
        "from PIL import Image, ImageFont, ImageDraw, ImageEnhance\n",
        "from tqdm import tqdm, trange\n",
        "from itertools import islice\n",
        "from einops import rearrange\n",
        "from torchvision.utils import make_grid, save_image\n",
        "import time\n",
        "from pytorch_lightning import seed_everything\n",
        "from torch import autocast\n",
        "from contextlib import contextmanager, nullcontext\n",
        "\n",
        "from ldm.util import instantiate_from_config\n",
        "from ldm.models.diffusion.ddim import DDIMSampler\n",
        "from ldm.models.diffusion.plms import PLMSSampler\n",
        "\n",
        "from transformers import CLIPTokenizer, CLIPTextModel\n",
        "from pathlib import Path"
      ]
    },
    {
      "cell_type": "code",
      "execution_count": null,
      "id": "f8b5256d-fe98-4d0c-9779-26380eca8bc8",
      "metadata": {
        "tags": [],
        "id": "f8b5256d-fe98-4d0c-9779-26380eca8bc8"
      },
      "outputs": [],
      "source": [
        "def parse(argument):\n",
        "    parser = argparse.ArgumentParser()\n",
        "\n",
        "    parser.add_argument(\n",
        "        \"--prompt\",\n",
        "        type=str,\n",
        "        nargs=\"?\",\n",
        "        default=\"a painting of a virus monster playing guitar\",\n",
        "        help=\"the prompt to render\"\n",
        "    )\n",
        "    parser.add_argument(\n",
        "        \"--outdir\",\n",
        "        type=str,\n",
        "        nargs=\"?\",\n",
        "        help=\"dir to write results to\",\n",
        "        default=\"outputs/txt2img-samples\"\n",
        "    )\n",
        "    parser.add_argument(\n",
        "        \"--skip_grid\",\n",
        "        action='store_true',\n",
        "        help=\"do not save a grid, only individual samples. Helpful when evaluating lots of samples\",\n",
        "    )\n",
        "    parser.add_argument(\n",
        "        \"--skip_save\",\n",
        "        action='store_true',\n",
        "        help=\"do not save individual samples. For speed measurements.\",\n",
        "    )\n",
        "    parser.add_argument(\n",
        "        \"--ddim_steps\",\n",
        "        type=int,\n",
        "        default=50,\n",
        "        help=\"number of ddim sampling steps\",\n",
        "    )\n",
        "    parser.add_argument(\n",
        "        \"--plms\",\n",
        "        action='store_true',\n",
        "        help=\"use plms sampling\",\n",
        "    )\n",
        "    parser.add_argument(\n",
        "        \"--laion400m\",\n",
        "        action='store_true',\n",
        "        help=\"uses the LAION400M model\",\n",
        "    )\n",
        "    parser.add_argument(\n",
        "        \"--fixed_code\",\n",
        "        action='store_true',\n",
        "        help=\"if enabled, uses the same starting code across samples \",\n",
        "    )\n",
        "    parser.add_argument(\n",
        "        \"--ddim_eta\",\n",
        "        type=float,\n",
        "        default=0.0,\n",
        "        help=\"ddim eta (eta=0.0 corresponds to deterministic sampling\",\n",
        "    )\n",
        "    parser.add_argument(\n",
        "        \"--n_iter\",\n",
        "        type=int,\n",
        "        default=2,\n",
        "        help=\"sample this often\",\n",
        "    )\n",
        "    parser.add_argument(\n",
        "        \"--H\",\n",
        "        type=int,\n",
        "        default=512,\n",
        "        help=\"image height, in pixel space\",\n",
        "    )\n",
        "    parser.add_argument(\n",
        "        \"--W\",\n",
        "        type=int,\n",
        "        default=512,\n",
        "        help=\"image width, in pixel space\",\n",
        "    )\n",
        "    parser.add_argument(\n",
        "        \"--C\",\n",
        "        type=int,\n",
        "        default=4,\n",
        "        help=\"latent channels\",\n",
        "    )\n",
        "    parser.add_argument(\n",
        "        \"--f\",\n",
        "        type=int,\n",
        "        default=8,\n",
        "        help=\"downsampling factor\",\n",
        "    )\n",
        "    parser.add_argument(\n",
        "        \"--n_samples\",\n",
        "        type=int,\n",
        "        default=3,\n",
        "        help=\"how many samples to produce for each given prompt. A.k.a. batch size\",\n",
        "    )\n",
        "    parser.add_argument(\n",
        "        \"--n_rows\",\n",
        "        type=int,\n",
        "        default=0,\n",
        "        help=\"rows in the grid (default: n_samples)\",\n",
        "    )\n",
        "    parser.add_argument(\n",
        "        \"--scale\",\n",
        "        type=float,\n",
        "        default=7.5,\n",
        "        help=\"unconditional guidance scale: eps = eps(x, empty) + scale * (eps(x, cond) - eps(x, empty))\",\n",
        "    )\n",
        "    parser.add_argument(\n",
        "        \"--from-file\",\n",
        "        type=str,\n",
        "        help=\"if specified, load prompts from this file\",\n",
        "    )\n",
        "    parser.add_argument(\n",
        "        \"--config\",\n",
        "        type=str,\n",
        "        default=\"configs/stable-diffusion/v1-inference-box.yaml\",\n",
        "        help=\"path to config which constructs model\",\n",
        "    )\n",
        "    parser.add_argument(\n",
        "        \"--ckpt\",\n",
        "        type=str,\n",
        "        default=\"models/ldm/stable-diffusion-v1/model.ckpt\",\n",
        "        help=\"path to checkpoint of model\",\n",
        "    )    \n",
        "    parser.add_argument(\n",
        "        \"--seed\",\n",
        "        type=int,\n",
        "        default=42,\n",
        "        help=\"the seed (for reproducible sampling)\",\n",
        "    )\n",
        "    parser.add_argument(\n",
        "        \"--precision\",\n",
        "        type=str,\n",
        "        help=\"evaluate at this precision\",\n",
        "        choices=[\"full\", \"autocast\"],\n",
        "        default=\"autocast\"\n",
        "    )\n",
        "    parser.add_argument(\n",
        "        \"--embedding_path\", \n",
        "        type=str, \n",
        "        help=\"Path to a pre-trained embedding manager checkpoint\")\n",
        "\n",
        "    opt = parser.parse_args(argument)\n",
        "    return opt"
      ]
    },
    {
      "cell_type": "code",
      "execution_count": null,
      "id": "ba5ebabb-a8a4-4548-ac1e-9044c8988988",
      "metadata": {
        "tags": [],
        "id": "ba5ebabb-a8a4-4548-ac1e-9044c8988988"
      },
      "outputs": [],
      "source": [
        "opt = parse(\n",
        "\"\"\"\n",
        "--plms --scale 4.0 --n_iter 1 --ddim_steps 50 --outdir outputs/\n",
        "--n_samples 1 \n",
        "\"\"\".split())"
      ]
    },
    {
      "cell_type": "code",
      "execution_count": null,
      "id": "459fe496-8a92-411d-9463-bbe18c3a4604",
      "metadata": {
        "tags": [],
        "id": "459fe496-8a92-411d-9463-bbe18c3a4604"
      },
      "outputs": [],
      "source": [
        "opt"
      ]
    },
    {
      "cell_type": "code",
      "execution_count": null,
      "id": "1d0a3452-94be-43e1-8ad0-68fdb1768e1e",
      "metadata": {
        "tags": [],
        "id": "1d0a3452-94be-43e1-8ad0-68fdb1768e1e"
      },
      "outputs": [],
      "source": [
        "opt.config = \"configs/stable-diffusion/v1-inference-iterinpaint.yaml\""
      ]
    },
    {
      "cell_type": "markdown",
      "source": [
        "# Download Pretrained Checkpoint"
      ],
      "metadata": {
        "id": "pHlRhGmMsmYE"
      },
      "id": "pHlRhGmMsmYE"
    },
    {
      "cell_type": "code",
      "source": [
        "!mkdir -p checkpoints\n",
        "!wget https://huggingface.co/j-min/IterInpaint_CLEVR/resolve/main/iterinpaint_CLEVR_FG30.ckpt -O checkpoints/iterinpaint_CLEVR_FG30.ckpt"
      ],
      "metadata": {
        "id": "jaGiB4q1sp83"
      },
      "id": "jaGiB4q1sp83",
      "execution_count": null,
      "outputs": []
    },
    {
      "cell_type": "code",
      "execution_count": null,
      "id": "9e616397-aa6f-4278-8c4c-1ce590c149cd",
      "metadata": {
        "tags": [],
        "id": "9e616397-aa6f-4278-8c4c-1ce590c149cd"
      },
      "outputs": [],
      "source": [
        "def load_model_from_config(config, ckpt, verbose=False):\n",
        "    print(f\"Loading model from {ckpt}\")\n",
        "    pl_sd = torch.load(ckpt, map_location=\"cpu\")\n",
        "    if \"global_step\" in pl_sd:\n",
        "        print(f\"Global Step: {pl_sd['global_step']}\")\n",
        "    sd = pl_sd[\"state_dict\"]\n",
        "    model = instantiate_from_config(config.model)\n",
        "    m, u = model.load_state_dict(sd, strict=False)\n",
        "    if len(m) > 0 and verbose:\n",
        "        print(\"missing keys:\")\n",
        "        print(m)\n",
        "    if len(u) > 0 and verbose:\n",
        "        print(\"unexpected keys:\")\n",
        "        print(u)\n",
        "\n",
        "    model.cuda()\n",
        "    model.eval()\n",
        "    return model"
      ]
    },
    {
      "cell_type": "code",
      "execution_count": null,
      "id": "ac20845f-5be6-47da-a622-b0d49d083321",
      "metadata": {
        "tags": [],
        "id": "ac20845f-5be6-47da-a622-b0d49d083321"
      },
      "outputs": [],
      "source": [
        "opt.ckpt = 'checkpoints/iterinpaint_CLEVR_FG30.ckpt'"
      ]
    },
    {
      "cell_type": "code",
      "execution_count": null,
      "id": "9cfd87fb-d43f-4187-970e-23b329988fc6",
      "metadata": {
        "tags": [],
        "id": "9cfd87fb-d43f-4187-970e-23b329988fc6"
      },
      "outputs": [],
      "source": [
        "seed_everything(opt.seed)\n",
        "\n",
        "from transformers import logging\n",
        "logging.set_verbosity_error()\n",
        "\n",
        "\n",
        "config = OmegaConf.load(f\"{opt.config}\")\n",
        "model = load_model_from_config(config, f\"{opt.ckpt}\")"
      ]
    },
    {
      "cell_type": "code",
      "execution_count": null,
      "id": "e4c712ea-d79e-4b58-aa79-0b898c6dcdb9",
      "metadata": {
        "tags": [],
        "id": "e4c712ea-d79e-4b58-aa79-0b898c6dcdb9"
      },
      "outputs": [],
      "source": [
        "device = torch.device(\"cuda\") if torch.cuda.is_available() else torch.device(\"cpu\")\n",
        "model = model.to(device)\n",
        "\n",
        "if opt.plms:\n",
        "    sampler = PLMSSampler(model)\n",
        "else:\n",
        "    sampler = DDIMSampler(model)"
      ]
    },
    {
      "cell_type": "code",
      "execution_count": null,
      "id": "81f8799d-d27f-4da9-b88b-b7d357989b87",
      "metadata": {
        "tags": [],
        "id": "81f8799d-d27f-4da9-b88b-b7d357989b87"
      },
      "outputs": [],
      "source": [
        "opt.iterinpaint_nopaste = False"
      ]
    },
    {
      "cell_type": "code",
      "execution_count": null,
      "id": "21e05b41-25e6-465a-96c9-8331f93cafc5",
      "metadata": {
        "tags": [],
        "id": "21e05b41-25e6-465a-96c9-8331f93cafc5"
      },
      "outputs": [],
      "source": [
        "from ldm.gen_utils import sample_images, prepare_text, encode_scene, prepare_clip_tokenizer, sample_images_iterative_inpaint\n",
        "from ldm.viz_utils import plot_results, fig2img, show_images"
      ]
    },
    {
      "cell_type": "code",
      "execution_count": null,
      "id": "8ae8576e-f8c6-46f2-acfe-0e1c72990461",
      "metadata": {
        "tags": [],
        "id": "8ae8576e-f8c6-46f2-acfe-0e1c72990461"
      },
      "outputs": [],
      "source": [
        "from ldm.gen_utils import inference_from_custom_annotation, encode_from_custom_annotation"
      ]
    },
    {
      "cell_type": "code",
      "execution_count": null,
      "id": "91cc9297-0ad2-4b2a-98ba-7db6af75ad8e",
      "metadata": {
        "tags": [],
        "id": "91cc9297-0ad2-4b2a-98ba-7db6af75ad8e"
      },
      "outputs": [],
      "source": [
        "opt"
      ]
    },
    {
      "cell_type": "markdown",
      "source": [
        "# Define a custom layout"
      ],
      "metadata": {
        "id": "NQevSLIKuneH"
      },
      "id": "NQevSLIKuneH"
    },
    {
      "cell_type": "code",
      "execution_count": null,
      "id": "fe2213b0-f82f-4fda-9003-8060b110955b",
      "metadata": {
        "id": "fe2213b0-f82f-4fda-9003-8060b110955b"
      },
      "outputs": [],
      "source": [
        "custom_annotations = [\n",
        "    {'x': 19,\n",
        "     'y': 61,\n",
        "     'width': 158,\n",
        "     'height': 169,\n",
        "     'label': 'blue metal cube'},\n",
        "    {'x': 183,\n",
        "      'y': 94,\n",
        "      'width': 103,\n",
        "      'height': 109,\n",
        "      'label': 'brown rubber sphere'},\n",
        "    {'x': 289, 'y': 112, 'width': 82, 'height': 77, 'label': 'gray metal sphere'},\n",
        "    {'x': 374,\n",
        "      'y': 128,\n",
        "      'width': 48,\n",
        "      'height': 46,\n",
        "      'label': 'yellow rubber cylinder'},\n",
        "    {'x': 22,\n",
        "      'y': 346,\n",
        "      'width': 82,\n",
        "      'height': 73,\n",
        "      'label': 'gray metal cylinder'},\n",
        "    {'x': 110,\n",
        "      'y': 326,\n",
        "      'width': 107,\n",
        "      'height': 102,\n",
        "      'label': 'cyan rubber sphere'},\n",
        "    {'x': 218,\n",
        "      'y': 313,\n",
        "      'width': 124,\n",
        "      'height': 125,\n",
        "      'label': 'green rubber cube'},\n",
        "    {'x': 343,\n",
        "      'y': 295,\n",
        "      'width': 164,\n",
        "      'height': 179,\n",
        "      'label': 'red metal cylinder'},\n",
        "]"
      ]
    },
    {
      "cell_type": "code",
      "execution_count": null,
      "id": "b30e44d6-e900-41d6-a128-033a154b3407",
      "metadata": {
        "tags": [],
        "id": "b30e44d6-e900-41d6-a128-033a154b3407"
      },
      "outputs": [],
      "source": [
        "scene = encode_from_custom_annotation(custom_annotations, size=512)\n",
        "\n",
        "print(scene['boxes_normalized'])\n",
        "print(scene['box_captions'])"
      ]
    },
    {
      "cell_type": "code",
      "execution_count": null,
      "id": "07b6e6ee-16d6-414e-8f54-40bb3778058a",
      "metadata": {
        "tags": [],
        "id": "07b6e6ee-16d6-414e-8f54-40bb3778058a"
      },
      "outputs": [],
      "source": [
        "layout_img = fig2img(plot_results(\n",
        "    Image.new('RGB', (512, 512), color='white'),\n",
        "    boxes=scene['boxes_normalized'],\n",
        "    captions=scene['box_captions'],\n",
        "    colors=['blue'] * len(scene['box_captions'])\n",
        "))\n",
        "layout_img"
      ]
    },
    {
      "cell_type": "code",
      "execution_count": null,
      "id": "d6e3bdba-065e-4827-8585-3b002269a9d7",
      "metadata": {
        "tags": [],
        "id": "d6e3bdba-065e-4827-8585-3b002269a9d7"
      },
      "outputs": [],
      "source": [
        "layout_name = \"eight_objects_two_rows\""
      ]
    },
    {
      "cell_type": "code",
      "execution_count": null,
      "id": "1e045136-9a5d-4f2c-8763-ce8f9f405c15",
      "metadata": {
        "tags": [],
        "id": "1e045136-9a5d-4f2c-8763-ce8f9f405c15"
      },
      "outputs": [],
      "source": [
        "opt.box_generation_order = None"
      ]
    },
    {
      "cell_type": "markdown",
      "source": [
        "# Generate Image"
      ],
      "metadata": {
        "id": "4kRTyQz1wetJ"
      },
      "id": "4kRTyQz1wetJ"
    },
    {
      "cell_type": "code",
      "execution_count": null,
      "id": "1bb49de6-b648-4cb0-8c62-e614a80008a8",
      "metadata": {
        "id": "1bb49de6-b648-4cb0-8c62-e614a80008a8"
      },
      "outputs": [],
      "source": [
        "generated = inference_from_custom_annotation(custom_annotations, sampler, opt)\n",
        "show_images(\n",
        "    generated['context_imgs'],\n",
        "    generated['generated_images']\n",
        ")\n",
        "generated['final_image']"
      ]
    },
    {
      "cell_type": "code",
      "source": [],
      "metadata": {
        "id": "4gc0dzHqulfX"
      },
      "id": "4gc0dzHqulfX",
      "execution_count": null,
      "outputs": []
    }
  ],
  "metadata": {
    "kernelspec": {
      "display_name": "Python 3",
      "name": "python3"
    },
    "language_info": {
      "name": "python"
    },
    "colab": {
      "provenance": [],
      "include_colab_link": true
    },
    "accelerator": "GPU",
    "gpuClass": "standard"
  },
  "nbformat": 4,
  "nbformat_minor": 5
}